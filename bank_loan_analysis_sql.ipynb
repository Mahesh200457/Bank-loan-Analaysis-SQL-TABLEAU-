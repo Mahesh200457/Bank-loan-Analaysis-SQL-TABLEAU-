{
  "metadata": {
    "kernelspec": {
      "language": "python",
      "display_name": "Python 3",
      "name": "python3"
    },
    "language_info": {
      "name": "python",
      "version": "3.10.13",
      "mimetype": "text/x-python",
      "codemirror_mode": {
        "name": "ipython",
        "version": 3
      },
      "pygments_lexer": "ipython3",
      "nbconvert_exporter": "python",
      "file_extension": ".py"
    },
    "kaggle": {
      "accelerator": "none",
      "dataSources": [],
      "dockerImageVersionId": 30646,
      "isInternetEnabled": true,
      "language": "python",
      "sourceType": "notebook",
      "isGpuEnabled": false
    },
    "colab": {
      "provenance": [],
      "include_colab_link": true
    }
  },
  "nbformat_minor": 0,
  "nbformat": 4,
  "cells": [
    {
      "cell_type": "markdown",
      "metadata": {
        "id": "view-in-github",
        "colab_type": "text"
      },
      "source": [
        "<a href=\"https://colab.research.google.com/github/Mahesh200457/Bank-loan-Analaysis-SQL-TABLEAU-/blob/main/bank_loan_analysis_sql.ipynb\" target=\"_parent\"><img src=\"https://colab.research.google.com/assets/colab-badge.svg\" alt=\"Open In Colab\"/></a>"
      ]
    },
    {
      "cell_type": "markdown",
      "source": [
        "### ***BANK LOAN ANALYSIS ***"
      ],
      "metadata": {
        "id": "0qs12NvBNb5S"
      }
    },
    {
      "cell_type": "markdown",
      "source": [
        "# Data Analysis with Visualization\n",
        "\n",
        "- What are the overall KPI metrics?\n",
        "- How is the bank doing in terms of good loans vs bad loans?\n",
        "- What is the average loan amount depending on different income levels?\n",
        "- How has the number of loan applications changed by month?"
      ],
      "metadata": {
        "id": "b2tzLYPdMsd9"
      }
    },
    {
      "cell_type": "code",
      "source": [
        "# What are the overall KPI metrics?\n",
        "\n",
        "# Total Loan Applications\n",
        "SELECT\n",
        "    COUNT(DISTINCT id) AS Total_Applications\n",
        "FROM\n",
        "    BankLoan\n",
        "\n",
        "\n",
        "# Total Amount Funded\n",
        "SELECT\n",
        "    SUM(loan_amount) AS Total_Amount_Funded\n",
        "FROM\n",
        "    BankLoan\n",
        "\n",
        "\n",
        "# Total Amount Received\n",
        "SELECT\n",
        "    SUM(total_payment) AS Total_Amount_Received\n",
        "FROM\n",
        "    BankLoan\n",
        "\n",
        "\n",
        "# Average Interest Rate\n",
        "SELECT\n",
        "    ROUND(AVG(int_rate)*100, 2) AS Avg_Int_Rate\n",
        "FROM\n",
        "    BankLoan\n",
        "\n",
        "\n",
        "# Avg DTI\n",
        "SELECT\n",
        "    ROUND(AVG(dti)*100, 2) AS Avg_DTI\n",
        "FROM\n",
        "    BankLoan"
      ],
      "metadata": {
        "id": "9HCxNp_kMsd-"
      },
      "execution_count": null,
      "outputs": []
    },
    {
      "cell_type": "code",
      "source": [
        "# How is the bank doing in terms of good loans vs bad loans?\n",
        "\n",
        "# Good Loan Applications\n",
        "SELECT\n",
        "    COUNT(id) AS Good_Loan_Applications\n",
        "FROM\n",
        "    BankLoan\n",
        "WHERE\n",
        "    loan_status = 'Fully Paid' OR loan_status = 'Current'\n",
        "\n",
        "\n",
        "# Good Loan Percentage\n",
        "SELECT\n",
        "    (COUNT(CASE WHEN loan_status = 'Fully Paid' OR loan_status = 'Current' THEN id END) * 100.0) /\n",
        "    COUNT(id) AS Good_Loan_Percentage\n",
        "FROM\n",
        "    BankLoan\n",
        "\n",
        "\n",
        "# Good Loan Funded Amount\n",
        "SELECT\n",
        "    SUM(loan_amount) AS Good_Loan_Amount_Funded\n",
        "FROM\n",
        "    BankLoan\n",
        "WHERE\n",
        "    loan_status = 'Fully Paid' OR loan_status = 'Current'\n",
        "\n",
        "\n",
        "# Good Loan Amount Received\n",
        "SELECT\n",
        "    SUM(total_payment) AS Good_Loan_Amount_Received\n",
        "FROM\n",
        "    BankLoan\n",
        "WHERE\n",
        "    loan_status = 'Fully Paid' OR loan_status = 'Current'\n",
        "\n",
        "\n",
        "# Bad Loan Applications\n",
        "SELECT\n",
        "    COUNT(id) AS Bad_Loan_Applications\n",
        "FROM\n",
        "    BankLoan\n",
        "WHERE\n",
        "    loan_status = 'Charged Off'\n",
        "\n",
        "\n",
        "# Bad Loan Percentage\n",
        "SELECT\n",
        "    (COUNT(CASE WHEN loan_status = 'Charged Off' THEN id END) * 100.0) /\n",
        "    COUNT(id) AS Bad_Loan_Percentage\n",
        "FROM\n",
        "    BankLoan\n",
        "\n",
        "\n",
        "# Bad Loan Amount Funded\n",
        "SELECT\n",
        "    SUM(loan_amount) AS Bad_Loan_Amount_Funded\n",
        "FROM\n",
        "    BankLoan\n",
        "WHERE\n",
        "    loan_status = 'Charged Off'\n",
        "\n",
        "\n",
        "# Bad Loan Amount Received\n",
        "SELECT\n",
        "    SUM(total_payment) AS Bad_Loan_Amount_Received\n",
        "FROM\n",
        "    BankLoan\n",
        "WHERE\n",
        "    loan_status = 'Charged Off'"
      ],
      "metadata": {
        "id": "VY63pIx_MseA"
      },
      "execution_count": null,
      "outputs": []
    },
    {
      "cell_type": "code",
      "source": [
        "# What is the average loan amount depending on different income levels?\n",
        "\n",
        "WITH IncomeCTE AS (\n",
        "    SELECT\n",
        "        CASE\n",
        "            WHEN annual_income < 5350.86 THEN 'Low Income'\n",
        "            WHEN annual_income >= 5350.86 AND annual_income < 134939.22 THEN 'Medium Income'\n",
        "            WHEN annual_income >= 134939.22 THEN 'High Income'\n",
        "            ELSE 'Unknown'\n",
        "        END AS IncomeBracket,\n",
        "        loan_amount\n",
        "    FROM\n",
        "        BankLoan\n",
        ")\n",
        "\n",
        "SELECT\n",
        "    IncomeBracket,\n",
        "    AVG(loan_amount) AS AverageLoanAmount\n",
        "FROM\n",
        "    IncomeCTE\n",
        "GROUP BY\n",
        "    IncomeBracket;"
      ],
      "metadata": {
        "id": "wTVborH9MseB"
      },
      "execution_count": null,
      "outputs": []
    },
    {
      "cell_type": "code",
      "source": [
        "# How has the number of loan applications changed by month?\n",
        "\n",
        "SELECT\n",
        "    MONTH(issue_date) AS Month_Munber,\n",
        "    DATENAME(MONTH, issue_date) AS Month_name,\n",
        "    COUNT(id) AS Total_Loan_Applications\n",
        "FROM\n",
        "    BankLoan\n",
        "GROUP BY\n",
        "    MONTH(issue_date),\n",
        "    DATENAME(MONTH, issue_date)\n",
        "ORDER BY\n",
        "    MONTH(issue_date)"
      ],
      "metadata": {
        "id": "Vx9YcO43MseB"
      },
      "execution_count": null,
      "outputs": []
    }
  ]
}